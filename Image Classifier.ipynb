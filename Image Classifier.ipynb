{
 "cells": [
  {
   "cell_type": "code",
   "execution_count": 1,
   "id": "passive-while",
   "metadata": {},
   "outputs": [],
   "source": [
    "import pickle\n",
    "import numpy as np\n",
    "import pandas as pd\n",
    "from skimage import color\n",
    "from sklearn.svm import SVC\n",
    "from skimage import exposure\n",
    "from skimage.feature import hog\n",
    "import matplotlib.pyplot as plt\n",
    "from skimage.transform import resize\n",
    "from sklearn.naive_bayes import GaussianNB\n",
    "from sklearn.tree import DecisionTreeClassifier\n",
    "from sklearn.model_selection import train_test_split\n",
    "from sklearn.metrics import accuracy_score, confusion_matrix, classification_report"
   ]
  },
  {
   "cell_type": "code",
   "execution_count": 2,
   "id": "naughty-sword",
   "metadata": {
    "scrolled": true
   },
   "outputs": [
    {
     "name": "stdout",
     "output_type": "stream",
     "text": [
      "(12000, 784)\n",
      "(12000,)\n"
     ]
    }
   ],
   "source": [
    "Xtr=np.loadtxt(\"TrainData.csv\")\n",
    "Ytr=np.loadtxt(\"TrainLabels.csv\")\n",
    "print(Xtr.shape)\n",
    "print(Ytr.shape)"
   ]
  },
  {
   "cell_type": "code",
   "execution_count": 3,
   "id": "ruled-bench",
   "metadata": {},
   "outputs": [
    {
     "data": {
      "text/plain": [
       "<matplotlib.image.AxesImage at 0x7f45f2a00850>"
      ]
     },
     "execution_count": 3,
     "metadata": {},
     "output_type": "execute_result"
    },
    {
     "data": {
      "image/png": "[encoded data removed]",
      "text/plain": [
       "<Figure size 432x288 with 1 Axes>"
      ]
     },
     "metadata": {
      "needs_background": "light"
     },
     "output_type": "display_data"
    }
   ],
   "source": [
    "plt.imshow(Xtr[0].reshape([28, 28]))"
   ]
  },
  {
   "cell_type": "code",
   "execution_count": 4,
   "id": "express-parking",
   "metadata": {},
   "outputs": [
    {
     "data": {
      "image/png": "[encoded data removed]",
      "text/plain": [
       "<Figure size 576x288 with 2 Axes>"
      ]
     },
     "metadata": {
      "needs_background": "light"
     },
     "output_type": "display_data"
    }
   ],
   "source": [
    "img = Xtr[0].reshape([28,28])\n",
    "fd, hog_image = hog(img, orientations=8, pixels_per_cell=(4, 4), \n",
    "          cells_per_block=(1, 1), visualize=True, multichannel=None)\n",
    "fig, (ax1, ax2) = plt.subplots(1, 2, figsize=(8, 4), sharex=True, sharey=True) \n",
    "hog_image_rescaled = exposure.rescale_intensity(hog_image, in_range=(0, 10))\n",
    "ax1.imshow(img) \n",
    "ax2.imshow(hog_image_rescaled, cmap=plt.cm.gray)\n",
    "plt.show()"
   ]
  },
  {
   "cell_type": "code",
   "execution_count": 5,
   "id": "later-cleaner",
   "metadata": {},
   "outputs": [],
   "source": [
    "def get_hog_features(imgs, hog_features, hog_images):\n",
    "    divider = 1000\n",
    "    for i in range(imgs.shape[0]):\n",
    "        img = imgs[i].reshape([28,28])\n",
    "#         img = resize(img, (128,64))\n",
    "        fd, hog_image = hog(img, orientations=8, pixels_per_cell=(4, 4), \n",
    "                   cells_per_block=(1, 1), visualize=True, multichannel=None)\n",
    "        hog_features.append(fd)\n",
    "        hog_images.append(hog_image)\n",
    "        if (i+1)/divider==1:\n",
    "            divider+=1000\n",
    "            print('*', end='')\n",
    "    print('Done!')"
   ]
  },
  {
   "cell_type": "code",
   "execution_count": 6,
   "id": "egyptian-express",
   "metadata": {
    "scrolled": true
   },
   "outputs": [
    {
     "name": "stdout",
     "output_type": "stream",
     "text": [
      "************Done!\n",
      "(12000, 392)\n"
     ]
    }
   ],
   "source": [
    "hog_features = []\n",
    "hog_images = []\n",
    "get_hog_features(Xtr, hog_features, hog_images)\n",
    "hog_features = np.array(hog_features)\n",
    "print(hog_features.shape)"
   ]
  },
  {
   "cell_type": "code",
   "execution_count": 7,
   "id": "crazy-design",
   "metadata": {},
   "outputs": [
    {
     "name": "stdout",
     "output_type": "stream",
     "text": [
      "X Train :  (10200, 392)\n",
      "Y Train :  (10200,)\n",
      "X Test :  (1800, 392)\n",
      "Y Test :  (1800,)\n"
     ]
    }
   ],
   "source": [
    "X_train, X_test, Y_train, Y_test = train_test_split(hog_features, Ytr, test_size=0.15, random_state=42)\n",
    "print('X Train : ', X_train.shape)\n",
    "print('Y Train : ', Y_train.shape)\n",
    "print('X Test : ', X_test.shape)\n",
    "print('Y Test : ', Y_test.shape)"
   ]
  },
  {
   "cell_type": "markdown",
   "id": "8ad9f3d0",
   "metadata": {},
   "source": [
    "#  SVC Model"
   ]
  },
  {
   "cell_type": "code",
   "execution_count": 8,
   "id": "democratic-ceiling",
   "metadata": {},
   "outputs": [
    {
     "data": {
      "text/plain": [
       "SVC()"
      ]
     },
     "execution_count": 8,
     "metadata": {},
     "output_type": "execute_result"
    }
   ],
   "source": [
    "model1 = SVC()\n",
    "model1.fit(X_train, Y_train)"
   ]
  },
  {
   "cell_type": "code",
   "execution_count": 9,
   "id": "increased-albuquerque",
   "metadata": {},
   "outputs": [],
   "source": [
    "pickle.dump(model1, open('SVC_Model.sav', 'wb'))"
   ]
  },
  {
   "cell_type": "code",
   "execution_count": 10,
   "id": "marine-facial",
   "metadata": {
    "scrolled": true
   },
   "outputs": [
    {
     "name": "stdout",
     "output_type": "stream",
     "text": [
      "81.38888888888889\n",
      "\n",
      "[[705 152]\n",
      " [183 760]]\n",
      "\n",
      "              precision    recall  f1-score   support\n",
      "\n",
      "        -1.0       0.79      0.82      0.81       857\n",
      "         1.0       0.83      0.81      0.82       943\n",
      "\n",
      "    accuracy                           0.81      1800\n",
      "   macro avg       0.81      0.81      0.81      1800\n",
      "weighted avg       0.81      0.81      0.81      1800\n",
      "\n"
     ]
    }
   ],
   "source": [
    "model_SVC = pickle.load(open('SVC_Model.sav', 'rb'))\n",
    "y_pre = model_SVC.predict(X_test)\n",
    "print(accuracy_score(y_pre, Y_test)*100)\n",
    "print('')\n",
    "print(confusion_matrix(y_pre, Y_test))\n",
    "print('')\n",
    "print(classification_report(y_pre, Y_test))"
   ]
  },
  {
   "cell_type": "markdown",
   "id": "e9409983",
   "metadata": {},
   "source": [
    "#  GaussianNB Model"
   ]
  },
  {
   "cell_type": "code",
   "execution_count": 11,
   "id": "chief-harrison",
   "metadata": {},
   "outputs": [
    {
     "data": {
      "text/plain": [
       "GaussianNB()"
      ]
     },
     "execution_count": 11,
     "metadata": {},
     "output_type": "execute_result"
    }
   ],
   "source": [
    "model3 = GaussianNB()\n",
    "model3.fit(X_train, Y_train)"
   ]
  },
  {
   "cell_type": "code",
   "execution_count": 12,
   "id": "united-sleep",
   "metadata": {},
   "outputs": [],
   "source": [
    "pickle.dump(model3, open('GaussianNB_Model.sav', 'wb'))"
   ]
  },
  {
   "cell_type": "code",
   "execution_count": 13,
   "id": "automated-device",
   "metadata": {},
   "outputs": [
    {
     "name": "stdout",
     "output_type": "stream",
     "text": [
      "75.3888888888889\n",
      "\n",
      "[[606 161]\n",
      " [282 751]]\n",
      "\n",
      "              precision    recall  f1-score   support\n",
      "\n",
      "        -1.0       0.68      0.79      0.73       767\n",
      "         1.0       0.82      0.73      0.77      1033\n",
      "\n",
      "    accuracy                           0.75      1800\n",
      "   macro avg       0.75      0.76      0.75      1800\n",
      "weighted avg       0.76      0.75      0.76      1800\n",
      "\n"
     ]
    }
   ],
   "source": [
    "model_GaussianNB = pickle.load(open('GaussianNB_Model.sav', 'rb'))\n",
    "y_pre = model_GaussianNB.predict(X_test)\n",
    "print(accuracy_score(y_pre, Y_test)*100)\n",
    "print('')\n",
    "print(confusion_matrix(y_pre, Y_test))\n",
    "print('')\n",
    "print(classification_report(y_pre, Y_test))"
   ]
  },
  {
   "cell_type": "code",
   "execution_count": null,
   "id": "textile-weight",
   "metadata": {},
   "outputs": [],
   "source": []
  }
 ],
 "metadata": {
  "kernelspec": {
   "display_name": "Python 3 (ipykernel)",
   "language": "python",
   "name": "python3"
  },
  "language_info": {
   "codemirror_mode": {
    "name": "ipython",
    "version": 3
   },
   "file_extension": ".py",
   "mimetype": "text/x-python",
   "name": "python",
   "nbconvert_exporter": "python",
   "pygments_lexer": "ipython3",
   "version": "3.8.10"
  }
 },
 "nbformat": 4,
 "nbformat_minor": 5
}
